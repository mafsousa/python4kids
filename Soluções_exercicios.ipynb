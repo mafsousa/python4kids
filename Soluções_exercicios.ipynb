{
  "nbformat": 4,
  "nbformat_minor": 0,
  "metadata": {
    "colab": {
      "name": "Soluções_exercicios.ipynb",
      "provenance": [],
      "authorship_tag": "ABX9TyMUeepJTOUQviatCD0slHJk",
      "include_colab_link": true
    },
    "kernelspec": {
      "name": "python3",
      "display_name": "Python 3"
    }
  },
  "cells": [
    {
      "cell_type": "markdown",
      "metadata": {
        "id": "view-in-github",
        "colab_type": "text"
      },
      "source": [
        "<a href=\"https://colab.research.google.com/github/mafsousa/python4kids/blob/master/Solu%C3%A7%C3%B5es_exercicios.ipynb\" target=\"_parent\"><img src=\"https://colab.research.google.com/assets/colab-badge.svg\" alt=\"Open In Colab\"/></a>"
      ]
    },
    {
      "cell_type": "markdown",
      "metadata": {
        "id": "Kz4gp4yK7KIV",
        "colab_type": "text"
      },
      "source": [
        "#**Soluções:**"
      ]
    },
    {
      "cell_type": "code",
      "metadata": {
        "id": "AhlruoVP4B8m",
        "colab_type": "code",
        "colab": {}
      },
      "source": [
        "#Exercicio 1\n",
        "print(\"Twinkle, twinkle, little star, \\n\\tHow I wonder what you are! \\n\\t\\tUp above the world so high, \\n\\t\\tLike a diamond in the sky. \\nTwinkle, twinkle, little star, \\n\\tHow I wonder what you are!\")"
      ],
      "execution_count": 0,
      "outputs": []
    },
    {
      "cell_type": "code",
      "metadata": {
        "id": "lq6T__ct9sBT",
        "colab_type": "code",
        "colab": {}
      },
      "source": [
        "#Exercício 2\n",
        "import math\n",
        "b = 3\n",
        "c = 4\n",
        "#pelo teorema de pitágoras\n",
        "a = math.sqrt(b*b + c*c)\n",
        "print(\"O valor da hipotenusa é igual a \", a)"
      ],
      "execution_count": 0,
      "outputs": []
    },
    {
      "cell_type": "code",
      "metadata": {
        "id": "GOCK4UyJQXX4",
        "colab_type": "code",
        "outputId": "b8acc852-b3a9-49ab-8110-54f238e2b41b",
        "colab": {
          "base_uri": "https://localhost:8080/",
          "height": 151
        }
      },
      "source": [
        "#Exercicio 3\n",
        "a = 2\n",
        "b = 10\n",
        "c = 15\n",
        "\n",
        "# 1) divide b por a\n",
        "x = b/a\n",
        "print(x)\n",
        "# 2) multiplica b por c\n",
        "y = b/c\n",
        "print(y)\n",
        "# 3) soma o resultado da 1 com c\n",
        "z = x + c\n",
        "print(z)\n",
        "# 4) divide c por b de forma inteira\n",
        "i = int(c / b)\n",
        "print(i)\n",
        "# 5) divide c por b de forma real\n",
        "g = float(c /b )\n",
        "print(g)\n",
        "# 6) subtrai o resultado da 4 de c\n",
        "h = c-i\n",
        "print(h)\n",
        "# 7) soma a e b e multiplica pela soma de b e c\n",
        "t = (a + b) * (b + c) \n",
        "print(t)\n",
        "# 8) Só para relembrar, escreve o teu nome\n",
        "print(\"O meu nome é: XXXX\")"
      ],
      "execution_count": 0,
      "outputs": [
        {
          "output_type": "stream",
          "text": [
            "5.0\n",
            "0.6666666666666666\n",
            "20.0\n",
            "1\n",
            "1.5\n",
            "14\n",
            "300\n",
            "O meu nome é: XXXX\n"
          ],
          "name": "stdout"
        }
      ]
    }
  ]
}