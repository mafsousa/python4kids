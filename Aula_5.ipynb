{
  "nbformat": 4,
  "nbformat_minor": 0,
  "metadata": {
    "colab": {
      "name": "Aula 4.ipynb",
      "provenance": [],
      "include_colab_link": true
    },
    "kernelspec": {
      "name": "python3",
      "display_name": "Python 3"
    }
  },
  "cells": [
    {
      "cell_type": "markdown",
      "metadata": {
        "id": "view-in-github",
        "colab_type": "text"
      },
      "source": [
        "<a href=\"https://colab.research.google.com/github/mafsousa/python4kids/blob/master/Aula_5.ipynb\" target=\"_parent\"><img src=\"https://colab.research.google.com/assets/colab-badge.svg\" alt=\"Open In Colab\"/></a>"
      ]
    },
    {
      "cell_type": "code",
      "metadata": {
        "id": "OdeTqmUiB3FB",
        "colab_type": "code",
        "colab": {}
      },
      "source": [
        "def IMC(altura,peso):\n",
        "  a = altura**2\n",
        "  imc = peso/a\n",
        "  print( imc)"
      ],
      "execution_count": 0,
      "outputs": []
    },
    {
      "cell_type": "code",
      "metadata": {
        "id": "jYsPDIzVD0sx",
        "colab_type": "code",
        "colab": {}
      },
      "source": [
        "a = altura**2\n",
        "imc = peso/a\n",
        "print( imc)"
      ],
      "execution_count": 0,
      "outputs": []
    },
    {
      "cell_type": "code",
      "metadata": {
        "id": "XFi-dQggCZDT",
        "colab_type": "code",
        "outputId": "6290edaa-29a1-42e1-feae-f61d54e324fe",
        "colab": {
          "base_uri": "https://localhost:8080/",
          "height": 68
        }
      },
      "source": [
        "al = float(input(\"Diz-me a altura\"))\n",
        "ps = int(input(\"Diz-me o peso\"))\n",
        "IMC(al,ps)"
      ],
      "execution_count": 0,
      "outputs": [
        {
          "output_type": "stream",
          "text": [
            "Diz-me a altura1.55\n",
            "Diz-me o peso60\n",
            "24.97398543184183\n"
          ],
          "name": "stdout"
        }
      ]
    },
    {
      "cell_type": "code",
      "metadata": {
        "id": "iQJwwRSyD664",
        "colab_type": "code",
        "outputId": "48af8810-ef27-4d90-e19c-462b9f279702",
        "colab": {
          "base_uri": "https://localhost:8080/",
          "height": 51
        }
      },
      "source": [
        "IMC(1.35,35)\n",
        "IMC(1.72,65)"
      ],
      "execution_count": 0,
      "outputs": [
        {
          "output_type": "stream",
          "text": [
            "19.204389574759944\n",
            "21.971335857220122\n"
          ],
          "name": "stdout"
        }
      ]
    },
    {
      "cell_type": "code",
      "metadata": {
        "id": "n0JLsmNSEmur",
        "colab_type": "code",
        "colab": {}
      },
      "source": [
        "def provadosnove(produto,factor1, factor2):\n",
        "  res = produto/factor1\n",
        "  if(res==factor2):\n",
        "    print(\"certo\")\n",
        "  else:\n",
        "    print(\"Errado\")\n",
        "\n",
        "\n"
      ],
      "execution_count": 0,
      "outputs": []
    },
    {
      "cell_type": "code",
      "metadata": {
        "id": "CTfOpBodFZfm",
        "colab_type": "code",
        "outputId": "6f0e6668-34a1-44a9-a938-476803eb36d7",
        "colab": {
          "base_uri": "https://localhost:8080/",
          "height": 34
        }
      },
      "source": [
        "provadosnove(367,9,19)"
      ],
      "execution_count": 0,
      "outputs": [
        {
          "output_type": "stream",
          "text": [
            "Errado\n"
          ],
          "name": "stdout"
        }
      ]
    }
  ]
}