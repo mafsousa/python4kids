{
  "nbformat": 4,
  "nbformat_minor": 0,
  "metadata": {
    "colab": {
      "name": "Python - aula2.ipynb",
      "provenance": [],
      "authorship_tag": "ABX9TyO7UvvqtK4NZkNFV2+OD5gM",
      "include_colab_link": true
    },
    "kernelspec": {
      "name": "python3",
      "display_name": "Python 3"
    }
  },
  "cells": [
    {
      "cell_type": "markdown",
      "metadata": {
        "id": "view-in-github",
        "colab_type": "text"
      },
      "source": [
        "<a href=\"https://colab.research.google.com/github/mafsousa/python4kids/blob/master/Python_aula2.ipynb\" target=\"_parent\"><img src=\"https://colab.research.google.com/assets/colab-badge.svg\" alt=\"Open In Colab\"/></a>"
      ]
    },
    {
      "cell_type": "markdown",
      "metadata": {
        "id": "jwYmhPasCUtl",
        "colab_type": "text"
      },
      "source": [
        "# Segunda aula"
      ]
    },
    {
      "cell_type": "markdown",
      "metadata": {
        "id": "s-BIHzHSCaHZ",
        "colab_type": "text"
      },
      "source": [
        "3. **Comentários**\n",
        "\n",
        "Sabes o que são comentários num código? Comentários são pequenos textos, em geral com poucas linhas, que explicam alguma coisa no código para mais tarde sabermos o que o código é suposto fazer. Por exemplo:\n",
        "\n",
        "\n",
        "\n"
      ]
    },
    {
      "cell_type": "code",
      "metadata": {
        "id": "yFjmZZ9BDH8g",
        "colab_type": "code",
        "colab": {}
      },
      "source": [
        "# Isto é um comentário\n",
        "print(\"Tudo bem?\") #Outro comentário"
      ],
      "execution_count": 0,
      "outputs": []
    },
    {
      "cell_type": "markdown",
      "metadata": {
        "id": "l6Z45OBDDUJH",
        "colab_type": "text"
      },
      "source": [
        "A linha 1 tem apenas um comentário, já na linha 2 tem uma função print() e também um comentário.\n",
        "\n",
        "O interpretador do Python vai simplesmente ignorar os comentários, assim como outras linguagens. Em python à várias formas de restringir um comentário, **#** para apenas uma linha, **' ' ' texto ' ' '** para comentar um bloco de texto.\n"
      ]
    },
    {
      "cell_type": "code",
      "metadata": {
        "id": "z7EN6cPPEUXX",
        "colab_type": "code",
        "colab": {}
      },
      "source": [
        "#comentário simples\n",
        "def teste():\n",
        "  ''' \n",
        "    Comentário mais longo\n",
        "    Podes introduzir várias linhas\n",
        "    É vulgarmente utilizado quando se quer documentar uma função\n",
        "    Esta é a função e podemos saber o que faz utilizando o comando __doc__\n",
        "  '''\n",
        "print(teste.__doc__)"
      ],
      "execution_count": 0,
      "outputs": []
    },
    {
      "cell_type": "markdown",
      "metadata": {
        "id": "2pq0EpvvLSTT",
        "colab_type": "text"
      },
      "source": [
        "Repara que no códgio anterior a primeira linha não aparece pois é um comentário, e os comentários são sempre ignorados durante a execução.\n",
        "Já o comando *teste.\\__doc\\___* permite imprimir a documentação feita na função teste."
      ]
    },
    {
      "cell_type": "markdown",
      "metadata": {
        "id": "9M67iB8KJ8T1",
        "colab_type": "text"
      },
      "source": [
        "**4. Números**\n",
        "\n",
        "As variáveis podem conter números basta usar o operador de atribuição (sinal de **=** ). As operações entre os números também é simples, tu podes usar os operadores + (adição), - (subtração), / (divisão) e * (multiplicação). Vê o exemplo:"
      ]
    },
    {
      "cell_type": "code",
      "metadata": {
        "id": "ZsNFagsbKU4p",
        "colab_type": "code",
        "colab": {}
      },
      "source": [
        "a = 1\n",
        "b = 10\n",
        "c = 200\n",
        "\n",
        "d = a + b # Resultado: 11\n",
        "e = c / b # Resultado: 20\n",
        "f = a - b # Resultado: -9\n",
        "g = b * c # Resultado: 2000\n",
        "\n",
        "h = 3\n",
        "i = b / h # Resultado: 3,33"
      ],
      "execution_count": 0,
      "outputs": []
    },
    {
      "cell_type": "markdown",
      "metadata": {
        "id": "F5JImkg5MFDU",
        "colab_type": "text"
      },
      "source": [
        "Aparentemente, o pythn sabe distinguir entre numeros inteiros, positivos e negatios e números decimais. Mas é necessário ter cuidado quando se definem variáveis inteiras e se fazem operações que podem levar a números não inteiros. Vejamos então que tipo de números podemos ter:\n",
        "\n",
        "*   **Integer** - são os números inteiros negativos e positivos: ...-3,-2,-1,0,1,2,3...\n",
        "*   **Floats** - são os números decimais, por exemplo 3.33,   4.1,   7.12\n",
        "\n",
        "Quando queremos forçar um número a ser inteiro utilização a função `int()` e quando queremos um número decimal utilizamos a função `float()`\n"
      ]
    },
    {
      "cell_type": "code",
      "metadata": {
        "id": "aHUITwJWO6DM",
        "colab_type": "code",
        "colab": {}
      },
      "source": [
        "a = 1\n",
        "b = int(a)\n",
        "c = float(a) \n",
        "print(b,c)\n",
        "d = 1.0 \n",
        "e = 5.5\n",
        "f = -33.7 "
      ],
      "execution_count": 0,
      "outputs": []
    },
    {
      "cell_type": "markdown",
      "metadata": {
        "id": "jrdh1AzaSKqx",
        "colab_type": "text"
      },
      "source": [
        "**Exercicio 3**\n",
        "\n",
        "Resolve as operações:\n",
        "a = 2\n",
        "b = 10\n",
        "c = 15\n",
        "\n",
        "1) divide b por a\n",
        "\n",
        "2) multiplica b por c\n",
        "\n",
        "3) soma o resultado da 1 com c\n",
        "\n",
        "4) divide c por b de forma inteira\n",
        "\n",
        "5) divide c por b de forma real\n",
        "\n",
        "6) subtrai o resultado da 4 de c\n",
        "\n",
        "7) soma a e b e multiplica pela soma de b e c\n",
        "\n",
        "8) Só para relembrar, escreve o teu nome"
      ]
    }
  ]
}