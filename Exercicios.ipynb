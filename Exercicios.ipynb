{
  "nbformat": 4,
  "nbformat_minor": 0,
  "metadata": {
    "colab": {
      "name": "Exercicios.ipynb",
      "provenance": [],
      "authorship_tag": "ABX9TyMl56J6bWGFfXy8fCBfx5o2",
      "include_colab_link": true
    },
    "kernelspec": {
      "name": "python3",
      "display_name": "Python 3"
    }
  },
  "cells": [
    {
      "cell_type": "markdown",
      "metadata": {
        "id": "view-in-github",
        "colab_type": "text"
      },
      "source": [
        "<a href=\"https://colab.research.google.com/github/mafsousa/python4kids/blob/master/Exercicios.ipynb\" target=\"_parent\"><img src=\"https://colab.research.google.com/assets/colab-badge.svg\" alt=\"Open In Colab\"/></a>"
      ]
    },
    {
      "cell_type": "markdown",
      "metadata": {
        "id": "R_QV24wCDYNJ",
        "colab_type": "text"
      },
      "source": [
        "##Exercicios"
      ]
    },
    {
      "cell_type": "code",
      "metadata": {
        "id": "h_Gmq6jQDQW7",
        "colab_type": "code",
        "colab": {}
      },
      "source": [
        "#Define uma função que calcule a área de um triangulo\n"
      ],
      "execution_count": 0,
      "outputs": []
    },
    {
      "cell_type": "code",
      "metadata": {
        "id": "YNK3OPs2EzFL",
        "colab_type": "code",
        "colab": {}
      },
      "source": [
        "#Define uma função que devolva quantas letras tem uma palavra"
      ],
      "execution_count": 0,
      "outputs": []
    },
    {
      "cell_type": "code",
      "metadata": {
        "id": "MKovh_MrE-5u",
        "colab_type": "code",
        "colab": {}
      },
      "source": [
        "#Define uma função calcule a velocidade de um passeio de bicicleta. A função deverá devolver o resultado e se o passeio foi rapido (>30km por hora) ou lento (<30km por hora)"
      ],
      "execution_count": 0,
      "outputs": []
    }
  ]
}