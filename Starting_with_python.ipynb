{
  "nbformat": 4,
  "nbformat_minor": 0,
  "metadata": {
    "colab": {
      "name": "Starting with python",
      "provenance": [],
      "collapsed_sections": [
        "Kz4gp4yK7KIV"
      ],
      "toc_visible": true,
      "authorship_tag": "ABX9TyMxkXBwfSDd/krZxrsyEpKZ",
      "include_colab_link": true
    },
    "kernelspec": {
      "name": "python3",
      "display_name": "Python 3"
    }
  },
  "cells": [
    {
      "cell_type": "markdown",
      "metadata": {
        "id": "view-in-github",
        "colab_type": "text"
      },
      "source": [
        "<a href=\"https://colab.research.google.com/github/mafsousa/python4kids/blob/master/Starting_with_python.ipynb\" target=\"_parent\"><img src=\"https://colab.research.google.com/assets/colab-badge.svg\" alt=\"Open In Colab\"/></a>"
      ]
    },
    {
      "cell_type": "markdown",
      "metadata": {
        "id": "aWFtuhJuDd5J",
        "colab_type": "text"
      },
      "source": [
        "# **Vamos aprender python**"
      ]
    },
    {
      "cell_type": "markdown",
      "metadata": {
        "id": "dJSj5cPo_kM_",
        "colab_type": "text"
      },
      "source": [
        "Este é um tutorial destinado a crianças do segundo ciclo, para aprender a programar python num ambiente de browser.\n",
        "\n",
        "A sintaxe de uma linguagem são as regras que nos dizem como escrever um código para que ele seja compilado sem erros. A seguir, veremos algumas das principais características da sintaxe do Python, com exemplos de código e explicações. Uma vez que o Python é uma linguagem fácil de aprender, é possível que no final deste documento já consigas escrever os seus primeiros códigos.\n",
        "\n",
        "Nota importante, há varias editores de python onde podes escrever e testar o teu código, mas comecemos por esta versão web (Python notebook) que não necessita de instalar qualquer ferramenta para poder começar a criar aplicações."
      ]
    },
    {
      "cell_type": "markdown",
      "metadata": {
        "id": "PoQxuRo3_29j",
        "colab_type": "text"
      },
      "source": [
        "\n",
        "\n",
        "1.   **Primeiros passos**\n",
        "\n",
        "*   **Variáveis**\n",
        "\n",
        "> Nas linguagens de programação, a variável é um local na memória que reservamos para armazenar dados. Para criar uma variável no Python basta informar nome e valor, como mostra o Código seguinte.\n"
      ]
    },
    {
      "cell_type": "code",
      "metadata": {
        "id": "IWt8_nu5_c9l",
        "colab_type": "code",
        "colab": {}
      },
      "source": [
        "total_alunos = 10\n",
        "print(total_alunos)"
      ],
      "execution_count": 0,
      "outputs": []
    },
    {
      "cell_type": "markdown",
      "metadata": {
        "id": "omea09DZBOzt",
        "colab_type": "text"
      },
      "source": [
        "\n",
        "\n",
        "> Neste código declaramos a variável *total_alunos* na Linha 1 e exibimos o seu *valor* na Linha 2 com o comando **print**.\n",
        "O nome de uma variável deve começar com uma letra ou sublinhado _ e pode ser seguido por letras, números e o caractere de sublinhado _. No Código anterior temos um exemplo de variável que recebeu um nome composto por duas palavras separadas por um sublinhado. Outras formas de se escrever variáveis são erradas ou incomuns. \n",
        "Vamos ver no ** Código seguinte** um exemplo de código inválido na linguagem Python."
      ]
    },
    {
      "cell_type": "code",
      "metadata": {
        "id": "WCCuXTJnBrki",
        "colab_type": "code",
        "colab": {}
      },
      "source": [
        "total_alunos = 10\n",
        "_total_alunos = 10\n",
        "1total_alunos = 10\n",
        " \n",
        "print(total_alunos)\n",
        "print(_total_alunos)\n",
        "print(1total_alunos)"
      ],
      "execution_count": 0,
      "outputs": []
    },
    {
      "cell_type": "markdown",
      "metadata": {
        "id": "MrbIYhqVBvqS",
        "colab_type": "text"
      },
      "source": [
        "\n",
        "> Na Linha 3, temos uma variável que se inicia com um número, o que gera um erro de sintaxe. A Linha 7 também contém um erro, pois está tentando exibir uma variável que tem um nome incorreto.\n",
        "Python é uma linguagem que faz diferenciação entre letras maiúsculas e minúsculas. Sendo assim, total_alunos e Total_alunos seriam nomes de variáveis diferentes. Vejamos um exemplo no Código seguinte.\n"
      ]
    },
    {
      "cell_type": "code",
      "metadata": {
        "id": "wC2tItPYCFJq",
        "colab_type": "code",
        "colab": {}
      },
      "source": [
        "total_aulas = 5\n",
        "TOTAL_AULAS = 10\n",
        " \n",
        "print(total_aulas)\n",
        "print(TOTAL_AULAS)"
      ],
      "execution_count": 0,
      "outputs": []
    },
    {
      "cell_type": "markdown",
      "metadata": {
        "id": "36Z2QrHpCJBi",
        "colab_type": "text"
      },
      "source": [
        "\n",
        "\n",
        "> Nesse exemplo, total_aulas é uma variável diferente de TOTAL_AULAS.\n",
        "\n",
        "*   **Palavras-chave**\n",
        "\n",
        "> Python, como toda linguagem, possui um conjunto de palavras-chave, que são termos que possuem significado especial para o compilador e que não podem utilizados como nomes. Abaixo temos uma lista destes termos:\n",
        "\n",
        "\n",
        "\n"
      ]
    },
    {
      "cell_type": "code",
      "metadata": {
        "id": "k8eI4jzvDUmZ",
        "colab_type": "code",
        "colab": {}
      },
      "source": [
        "and, as, assert, break, class, continue, def, del, elif, else, except, False, finally,\n",
        "for, from, global, if, import, in, is, lambda, None, nonlocal, not, or, pass, raise, \n",
        "return, True, try, while, with, yield"
      ],
      "execution_count": 0,
      "outputs": []
    },
    {
      "cell_type": "markdown",
      "metadata": {
        "id": "RJKfp6jcDUKJ",
        "colab_type": "text"
      },
      "source": [
        "O Código seguinte gera um erro de sintaxe, pois o nome da variável *for* está a violar a regra de não usar palavras-chave."
      ]
    },
    {
      "cell_type": "code",
      "metadata": {
        "id": "0DhKqP8ZUIsJ",
        "colab_type": "code",
        "colab": {}
      },
      "source": [
        "for = 5 - 1\n",
        "print(x)"
      ],
      "execution_count": 0,
      "outputs": []
    },
    {
      "cell_type": "markdown",
      "metadata": {
        "id": "EEptjvFuUJx3",
        "colab_type": "text"
      },
      "source": [
        "Para resolver esse problema basta utilizar um nome que não seja uma palavra-reservada, como vemos no Código seguinte."
      ]
    },
    {
      "cell_type": "code",
      "metadata": {
        "id": "pdSZ8p4MUP7n",
        "colab_type": "code",
        "colab": {}
      },
      "source": [
        "x = 5 - 1\n",
        "print(x)"
      ],
      "execution_count": 0,
      "outputs": []
    },
    {
      "cell_type": "markdown",
      "metadata": {
        "id": "Wb3bE5pIUYQX",
        "colab_type": "text"
      },
      "source": [
        "Não é necessário decorar cada palavra-chave da linguagem. A maioria dos IDEs com as quais vais trabalhar avisam quando estiveres a utilizar alguma dessas palavras como nome de uma variável. Nota que a cor também se altera.\n",
        "\n",
        "\n",
        "\n",
        "*   Indentação faz parte da sintaxe\n",
        "\n",
        "Indentação é uma forma de organizar o código, fazendo com que algumas linhas fiquem mais à direita que outras, à medida que adicionamos espaços no inicio (semelhante ao espaço que se faz para começar um parágrafo novo). Para a maioria das linguagens a indentação não é obrigatória, mas não é o caso de python.\n",
        "\n",
        "A indentação é uma característica importante no Python, pois além de promover a legibilidade é essencial para o bom funcionamento do código.Por outras palavras, se a indentação não estiver adequada o programa pode-se comportar de forma inesperada ou até mesmo não [compilar](https://www.lexico.pt/compilar/).\n",
        "\n",
        "Por exemplo, no caso de um *if*, o que determina se um código está dentro da condição é o facto dele ter sido indentado. O Código seguinte apresenta um exemplo onde o comando print só será executado se o valor da variável **x** for maior que 8."
      ]
    },
    {
      "cell_type": "code",
      "metadata": {
        "id": "gy3y3GQLV8xp",
        "colab_type": "code",
        "colab": {}
      },
      "source": [
        "x = 10\n",
        " \n",
        "if x > 8:\n",
        "   print(\"x é maior que 8\")"
      ],
      "execution_count": 0,
      "outputs": []
    },
    {
      "cell_type": "markdown",
      "metadata": {
        "id": "2Yn2Dgw7W8M2",
        "colab_type": "text"
      },
      "source": [
        "Agora no próximo exemplo no qual o comando *print* será executado de qualquer forma por não estar indentado e, por isso, não estar contido no *if*."
      ]
    },
    {
      "cell_type": "code",
      "metadata": {
        "id": "WSqVx0LfXGQW",
        "colab_type": "code",
        "colab": {}
      },
      "source": [
        "x = 10\n",
        " \n",
        "if x > 8:\n",
        " \n",
        "print(\"x é maior que 8\")"
      ],
      "execution_count": 0,
      "outputs": []
    },
    {
      "cell_type": "markdown",
      "metadata": {
        "id": "tLwf17Z_WkFB",
        "colab_type": "text"
      },
      "source": [
        "Neste Código temos dois erros. O primeiro tem a ver com a forma como o código foi escrito, porque espera-se que o comando *print* seja executado apenas se **x** for maior que 8, ele deveria estar indentado.\n",
        "\n",
        "Um outro erro está relacionado com a estrutura de controle de fluxo *if*, que será vista em detalhes mais à frente. Uma vez que o comando *print* não está indentado, o mesmo também não está contido no *if*, deixando-o vazio e isso vai causar um erro de sintaxe."
      ]
    },
    {
      "cell_type": "markdown",
      "metadata": {
        "id": "t0Kaae5VXbVK",
        "colab_type": "text"
      },
      "source": [
        "*   Parênteses são opcionais\n",
        "\n",
        "No Python não há a necessidade de fazer o uso de parêntesis para as estruturas de controle de fluxo como *if*, *for* e *while*.\n",
        "Nos próximos sCódigos temos dois exemplos que mostram a diferença entre usar ou não os parênteses, mostrando que eles são opcionais."
      ]
    },
    {
      "cell_type": "code",
      "metadata": {
        "id": "k06lC3w8XyOT",
        "colab_type": "code",
        "colab": {}
      },
      "source": [
        "x = 10\n",
        "if (x > 8):\n",
        "  print(\"x é maior que 8\")"
      ],
      "execution_count": 0,
      "outputs": []
    },
    {
      "cell_type": "code",
      "metadata": {
        "id": "iHQvxFz5X0cO",
        "colab_type": "code",
        "colab": {}
      },
      "source": [
        "x = 10\n",
        "if x > 8: # nessa linha removemos os parêntesis\n",
        "  print(\"x é maior que 8\")"
      ],
      "execution_count": 0,
      "outputs": []
    },
    {
      "cell_type": "markdown",
      "metadata": {
        "id": "30_idGkRX4bW",
        "colab_type": "text"
      },
      "source": [
        "Ambos os códigos estão corretos. Dessa forma, o Python diferencia-se da maior parte das linguagens, nas quais a sintaxe exige que os parêntesis sejam usados.\n",
        "\n",
        "* Mais sobre o comando **print**\n",
        "Quando se quer escrever uma palavra (na linguagem de programação palavra == string) coloca-se a palavra entre aspas. Já se quiseres imprimir o valor de uma variável retiras as aspas. Por exemplo,\n"
      ]
    },
    {
      "cell_type": "code",
      "metadata": {
        "id": "TyLDkhvb5OcU",
        "colab_type": "code",
        "colab": {}
      },
      "source": [
        "palavra = \"exemplo\"\n",
        "print(palavra)\n",
        "print(\"palavra\")"
      ],
      "execution_count": 0,
      "outputs": []
    },
    {
      "cell_type": "markdown",
      "metadata": {
        "id": "Kp_JCRjH5ZZz",
        "colab_type": "text"
      },
      "source": [
        "No primeiro print estamos a imprimir a variável palavra que tem valor \"exemplo\" e no segundo print estás a imprimir a palavra \"palavra\", passo a redundância. Daqui para frente vamos chamar String às palavras que podem ter um ou mais caracteres desde que sejam expressos entre aspas \" \". Repara que as string aparecem a vermelho.\n",
        "\n",
        "Já que estamos a imprimir palavras há mais dois símbolos associados às strings: **\\n** e o **\\t**. Quando combinas estes simbolos no meio de uma string consegues introduzir um mudar de linha ou uma tabulação, respectivamente. \n",
        "\n",
        "Dica, *n* de nova_linha e *t* de tabulação. No código seguinte tens um exemplo de utilização destes símbolos."
      ]
    },
    {
      "cell_type": "code",
      "metadata": {
        "id": "1hHUnNIg6nAH",
        "colab_type": "code",
        "colab": {}
      },
      "source": [
        "print(\"A Sofia é bonita.\\n A Marta também é! \\n\\t Já tu...\")"
      ],
      "execution_count": 0,
      "outputs": []
    },
    {
      "cell_type": "markdown",
      "metadata": {
        "id": "38hkVxMc1JWA",
        "colab_type": "text"
      },
      "source": [
        "**Exercicio1**\n",
        "Escreve um codigo na próxima janela que imprima o seguinte texto no mesmo formato em que aparece:\n",
        "\n",
        "Twinkle, twinkle, little star,\n",
        "\n",
        "> How I wonder what you are!\n",
        ">> Up above the world so high,\n",
        "\n",
        ">> Like a diamond in the sky. \t\t\n",
        "\n",
        "Twinkle, twinkle, little star, \t\n",
        "> How I wonder what you are\n",
        "\n",
        "\n"
      ]
    },
    {
      "cell_type": "code",
      "metadata": {
        "id": "lnvtU_5Z1IMN",
        "colab_type": "code",
        "colab": {}
      },
      "source": [
        "#escreve aqui e depois testa\n"
      ],
      "execution_count": 0,
      "outputs": []
    },
    {
      "cell_type": "markdown",
      "metadata": {
        "id": "D-RJaHqZ8bDH",
        "colab_type": "text"
      },
      "source": [
        "**Exercício 2**\n",
        "\n",
        "Na figura seguinte qual o valor da hipotenusa?\n",
        "Identifica os catetos como **b** e **c**. \n",
        "\n",
        "Deixa o python fazer a conta!\n",
        "\n",
        "Nota: as funções que tu conheces de matemática estão guardadas num pacote chamado **[math](https://blog.evaldojunior.com.br/aulas/python/2008/11/16/curso-de-python-aula-4-mais-numeros-e-a-biblioteca-math.html)** e quando as queres usar deves importar esse pacote no inicio do código da seguinte forma:\n",
        "> `import math`\n",
        "\n",
        "![alt text](https://s1.static.brasilescola.uol.com.br/img/2017/05/teorema-de-pitagoras-exemplo-1.jpg)"
      ]
    },
    {
      "cell_type": "code",
      "metadata": {
        "id": "h6G4aUzf9cmo",
        "colab_type": "code",
        "colab": {}
      },
      "source": [
        "#escreve o código aqui"
      ],
      "execution_count": 0,
      "outputs": []
    },
    {
      "cell_type": "markdown",
      "metadata": {
        "id": "jwYmhPasCUtl",
        "colab_type": "text"
      },
      "source": [
        "# Segunda aula"
      ]
    },
    {
      "cell_type": "markdown",
      "metadata": {
        "id": "s-BIHzHSCaHZ",
        "colab_type": "text"
      },
      "source": [
        "3. **Comentários**\n",
        "\n",
        "Sabes o que são comentários num código? Comentários são pequenos textos, em geral com poucas linhas, que explicam alguma coisa no código para mais tarde sabermos o que o código é suposto fazer. Por exemplo:\n",
        "\n",
        "\n",
        "\n"
      ]
    },
    {
      "cell_type": "code",
      "metadata": {
        "id": "yFjmZZ9BDH8g",
        "colab_type": "code",
        "colab": {}
      },
      "source": [
        "# Isto é um comentário\n",
        "print(\"Tudo bem?\") #Outro comentário"
      ],
      "execution_count": 0,
      "outputs": []
    },
    {
      "cell_type": "markdown",
      "metadata": {
        "id": "l6Z45OBDDUJH",
        "colab_type": "text"
      },
      "source": [
        "A linha 1 tem apenas um comentário, já na linha 2 tem uma função print() e também um comentário.\n",
        "\n",
        "O interpretador do Python vai simplesmente ignorar os comentários, assim como outras linguagens. Em python à várias formas de restringir um comentário, **#** para apenas uma linha, **' ' ' texto ' ' '** para comentar um bloco de texto.\n"
      ]
    },
    {
      "cell_type": "code",
      "metadata": {
        "id": "z7EN6cPPEUXX",
        "colab_type": "code",
        "colab": {}
      },
      "source": [
        "#comentário simples\n",
        "def teste():\n",
        "  ''' \n",
        "    Comentário mais longo\n",
        "    Podes introduzir várias linhas\n",
        "    É vulgarmente utilizado quando se quer documentar uma função\n",
        "    Esta é a função e podemos saber o que faz utilizando o comando __doc__\n",
        "  '''\n",
        "print(teste.__doc__)"
      ],
      "execution_count": 0,
      "outputs": []
    },
    {
      "cell_type": "markdown",
      "metadata": {
        "id": "2pq0EpvvLSTT",
        "colab_type": "text"
      },
      "source": [
        "Repara que no códgio anterior a primeira linha não aparece pois é um comentário, e os comentários são sempre ignorados durante a execução.\n",
        "Já o comando *teste.\\__doc\\___* permite imprimir a documentação feita na função teste."
      ]
    },
    {
      "cell_type": "markdown",
      "metadata": {
        "id": "9M67iB8KJ8T1",
        "colab_type": "text"
      },
      "source": [
        "**4. Números**\n",
        "\n",
        "As variáveis podem conter números basta usar o operador de atribuição (sinal de **=** ). As operações entre os números também é simples, tu podes usar os operadores + (adição), - (subtração), / (divisão) e * (multiplicação). Vê o exemplo:"
      ]
    },
    {
      "cell_type": "code",
      "metadata": {
        "id": "ZsNFagsbKU4p",
        "colab_type": "code",
        "colab": {}
      },
      "source": [
        "a = 1\n",
        "b = 10\n",
        "c = 200\n",
        "\n",
        "d = a + b # Resultado: 11\n",
        "e = c / b # Resultado: 20\n",
        "f = a - b # Resultado: -9\n",
        "g = b * c # Resultado: 2000\n",
        "\n",
        "h = 3\n",
        "i = b / h # Resultado: 3,33"
      ],
      "execution_count": 0,
      "outputs": []
    },
    {
      "cell_type": "markdown",
      "metadata": {
        "id": "F5JImkg5MFDU",
        "colab_type": "text"
      },
      "source": [
        "Aparentemente, o pythn sabe distinguir entre numeros inteiros, positivos e negatios e números decimais. Mas é necessário ter cuidado quando se definem variáveis inteiras e se fazem operações que podem levar a números não inteiros. Vejamos então que tipo de números podemos ter:\n",
        "\n",
        "*   **Integer** - são os números inteiros negativos e positivos: ...-3,-2,-1,0,1,2,3...\n",
        "*   **Floats** - são os números decimais, por exemplo 3.33,   4.1,   7.12\n",
        "\n",
        "Quando queremos forçar um número a ser inteiro utilização a função `int()` e quando queremos um número decimal utilizamos a função `float()`\n"
      ]
    },
    {
      "cell_type": "code",
      "metadata": {
        "id": "aHUITwJWO6DM",
        "colab_type": "code",
        "colab": {}
      },
      "source": [
        "a = 1\n",
        "b = int(a)\n",
        "c = float(a) \n",
        "print(b,c)\n",
        "d = 1.0 \n",
        "e = 5.5\n",
        "f = -33.7 "
      ],
      "execution_count": 0,
      "outputs": []
    },
    {
      "cell_type": "markdown",
      "metadata": {
        "id": "jrdh1AzaSKqx",
        "colab_type": "text"
      },
      "source": [
        "**Exercicio 3**\n",
        "\n",
        "Resolve as operações:\n",
        "a = 2\n",
        "b = 10\n",
        "c = 15\n",
        "\n",
        "1) divide b por a\n",
        "\n",
        "2) multiplica b por c\n",
        "\n",
        "3) soma o resultado da 1 com c\n",
        "\n",
        "4) divide c por b de forma inteira\n",
        "\n",
        "5) divide c por b de forma real\n",
        "\n",
        "6) subtrai o resultado da 4 de c\n",
        "\n",
        "7) soma a e b e multiplica pela soma de b e c\n",
        "\n",
        "8) Só para relembrar, escreve o teu nome"
      ]
    },
    {
      "cell_type": "markdown",
      "metadata": {
        "id": "SjFc-EsACWVM",
        "colab_type": "text"
      },
      "source": [
        "# New Section"
      ]
    },
    {
      "cell_type": "markdown",
      "metadata": {
        "id": "Kz4gp4yK7KIV",
        "colab_type": "text"
      },
      "source": [
        "#**Soluções:**"
      ]
    },
    {
      "cell_type": "code",
      "metadata": {
        "id": "AhlruoVP4B8m",
        "colab_type": "code",
        "colab": {}
      },
      "source": [
        "#Exercicio 1\n",
        "print(\"Twinkle, twinkle, little star, \\n\\tHow I wonder what you are! \\n\\t\\tUp above the world so high, \\n\\t\\tLike a diamond in the sky. \\nTwinkle, twinkle, little star, \\n\\tHow I wonder what you are!\")"
      ],
      "execution_count": 0,
      "outputs": []
    },
    {
      "cell_type": "code",
      "metadata": {
        "id": "lq6T__ct9sBT",
        "colab_type": "code",
        "colab": {}
      },
      "source": [
        "#Exercício 2\n",
        "import math\n",
        "b = 3\n",
        "c = 4\n",
        "#pelo teorema de pitágoras\n",
        "a = math.sqrt(b*b + c*c)\n",
        "print(\"O valor da hipotenusa é igual a \", a)"
      ],
      "execution_count": 0,
      "outputs": []
    },
    {
      "cell_type": "code",
      "metadata": {
        "id": "GOCK4UyJQXX4",
        "colab_type": "code",
        "colab": {
          "base_uri": "https://localhost:8080/",
          "height": 151
        },
        "outputId": "b8acc852-b3a9-49ab-8110-54f238e2b41b"
      },
      "source": [
        "#Exercicio 3\n",
        "a = 2\n",
        "b = 10\n",
        "c = 15\n",
        "\n",
        "# 1) divide b por a\n",
        "x = b/a\n",
        "print(x)\n",
        "# 2) multiplica b por c\n",
        "y = b/c\n",
        "print(y)\n",
        "# 3) soma o resultado da 1 com c\n",
        "z = x + c\n",
        "print(z)\n",
        "# 4) divide c por b de forma inteira\n",
        "i = int(c / b)\n",
        "print(i)\n",
        "# 5) divide c por b de forma real\n",
        "g = float(c /b )\n",
        "print(g)\n",
        "# 6) subtrai o resultado da 4 de c\n",
        "h = c-i\n",
        "print(h)\n",
        "# 7) soma a e b e multiplica pela soma de b e c\n",
        "t = (a + b) * (b + c) \n",
        "print(t)\n",
        "# 8) Só para relembrar, escreve o teu nome\n",
        "print(\"O meu nome é: XXXX\")"
      ],
      "execution_count": 32,
      "outputs": [
        {
          "output_type": "stream",
          "text": [
            "5.0\n",
            "0.6666666666666666\n",
            "20.0\n",
            "1\n",
            "1.5\n",
            "14\n",
            "300\n",
            "O meu nome é: XXXX\n"
          ],
          "name": "stdout"
        }
      ]
    }
  ]
}